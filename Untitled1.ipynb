{
 "cells": [
  {
   "cell_type": "code",
   "execution_count": null,
   "id": "371e0f9b",
   "metadata": {},
   "outputs": [],
   "source": [
    "VERSION"
   ]
  }
 ],
 "metadata": {
  "kernelspec": {
   "display_name": "Julia 1.11.1",
   "language": "julia",
   "name": "julia-1.11"
  }
 },
 "nbformat": 4,
 "nbformat_minor": 5
}
