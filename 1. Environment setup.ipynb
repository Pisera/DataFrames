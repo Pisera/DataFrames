{
 "cells": [
  {
   "cell_type": "markdown",
   "metadata": {},
   "source": [
    "# Environment setup for data frames tutorial\n",
    "\n",
    "## Bogumił Kamiński"
   ]
  },
  {
   "cell_type": "markdown",
   "metadata": {},
   "source": [
    "Welcome to DataFrames.jl introduction!\n",
    "\n",
    "This set of Jupyter notebooks is intended to give you an overwiew of what functionality DataFrames.jl has based on practical examples.\n",
    "\n",
    "You can find reviews of functionality of DataFrames.jl (not as exercises as this tutorial but task-type oriented) in the following locations:\n",
    "* an official manual at https://juliadata.github.io/DataFrames.jl/stable/\n",
    "* a tutorial going through all functionalities of DataFrames.jl at https://github.com/bkamins/Julia-DataFrames-Tutorial\n",
    "\n",
    "We also assume that you have a basic knowledge of the Julia language and the Julia ecosystem. There are great tutorials on this topic in [JuliaAcademy](https://juliaacademy.com/), so I encourage you to check them out.\n",
    "\n",
    "As this is a hands-on tutorial you can expect that the examples will be implemented in a way as I would write them when doing actual project."
   ]
  },
  {
   "cell_type": "markdown",
   "metadata": {},
   "source": [
    "The current version of the notebooks requires Julia 1.6+ and was run under Julia 1.9.0. If you have a different version of Julia installed change the kernel in *Kernel/Change kernel* option in menu (assuming you are on a Julia 1.6+ all examples should work)."
   ]
  },
  {
   "cell_type": "code",
   "execution_count": 2,
   "metadata": {},
   "outputs": [
    {
     "data": {
      "text/plain": [
       "v\"1.11.2\""
      ]
     },
     "execution_count": 2,
     "metadata": {},
     "output_type": "execute_result"
    }
   ],
   "source": [
    "VERSION"
   ]
  },
  {
   "cell_type": "markdown",
   "metadata": {},
   "source": [
    "Jupyter Notebook automatically activates project environment if it is found in the working directory.\n",
    "\n",
    "So first let us check if we have Project.toml and Manifest.toml files present (they should be present if you cloned the repository of this tutorial)."
   ]
  },
  {
   "cell_type": "code",
   "execution_count": 5,
   "metadata": {},
   "outputs": [
    {
     "data": {
      "text/plain": [
       "2-element BitVector:\n",
       " 1\n",
       " 1"
      ]
     },
     "execution_count": 5,
     "metadata": {},
     "output_type": "execute_result"
    }
   ],
   "source": [
    "isfile.([\"Project.toml\", \"Manifest.toml\"])"
   ]
  },
  {
   "cell_type": "markdown",
   "metadata": {},
   "source": [
    "You should get `1` printed (meaning `true`) in both entries of a vector.\n",
    "\n",
    "Now we are sure that you are going to use exactly the same versions of the packages that I use when running this tutorial.\n",
    "\n",
    "Let us check what packages (and in what versions) we will use."
   ]
  },
  {
   "cell_type": "code",
   "execution_count": 8,
   "metadata": {},
   "outputs": [
    {
     "name": "stdout",
     "output_type": "stream",
     "text": [
      "\u001b[32m\u001b[1mStatus\u001b[22m\u001b[39m `~/Documents/GitHub/juliaProjects/DataFrames/Project.toml`\n",
      "  \u001b[90m[69666777] \u001b[39mArrow v2.8.0\n",
      "  \u001b[90m[336ed68f] \u001b[39mCSV v0.10.15\n",
      "  \u001b[90m[a93c6f00] \u001b[39mDataFrames v1.7.0\n",
      "  \u001b[90m[da1fdf0e] \u001b[39mFreqTables v0.4.6\n",
      "  \u001b[90m[38e38edf] \u001b[39mGLM v1.9.0\n",
      "  \u001b[90m[b98c9c47] \u001b[39mPipe v1.3.0\n",
      "  \u001b[90m[438e738f] \u001b[39mPyCall v1.96.4\n",
      "  \u001b[90m[d330b81b] \u001b[39mPyPlot v2.11.5\n",
      "  \u001b[90m[1986cc42] \u001b[39mUnitful v1.21.1\n"
     ]
    }
   ],
   "source": [
    "] status"
   ]
  },
  {
   "cell_type": "markdown",
   "metadata": {},
   "source": [
    "These notebooks should work with DataFrames.jl versions 0.22, 1.2, 1.3, 1.4 and 1.5 (but note that current version of Manifest.toml assumes version 1.5)."
   ]
  },
  {
   "cell_type": "markdown",
   "metadata": {},
   "source": [
    "If you are running the notebooks in Jupyter then the project environment specified by the Project.toml and Manifest.toml files is activated automatically.\n",
    "\n",
    "If you are using other way to run these notebooks (e.g. in VS Code) the project environment might not get automatically activated. To be sure, start Julia within this project folder run:"
   ]
  },
  {
   "cell_type": "code",
   "execution_count": 4,
   "metadata": {},
   "outputs": [
    {
     "name": "stderr",
     "output_type": "stream",
     "text": [
      "\u001b[32m\u001b[1m  Activating\u001b[22m\u001b[39m project at `~/Documents/GitHub/juliaProjects/DataFrames`\n"
     ]
    }
   ],
   "source": [
    "] activate ."
   ]
  },
  {
   "cell_type": "markdown",
   "metadata": {},
   "source": [
    "f the correct environment is not activated you might face some unexpected issues with the packages. More details about Julia environments can be found [here](https://pkgdocs.julialang.org/v1/environments)."
   ]
  },
  {
   "cell_type": "markdown",
   "metadata": {},
   "source": [
    "If checking the status of the packages gives a warning that some of the packages are not downloaded run the `instantiate` instruction from the following line."
   ]
  },
  {
   "cell_type": "code",
   "execution_count": 5,
   "metadata": {
    "scrolled": true
   },
   "outputs": [
    {
     "name": "stderr",
     "output_type": "stream",
     "text": [
      "\u001b[32m\u001b[1m   Installed\u001b[22m\u001b[39m Scratch ───────────────────── v1.2.1\n",
      "\u001b[32m\u001b[1m   Installed\u001b[22m\u001b[39m Crayons ───────────────────── v4.1.1\n",
      "\u001b[32m\u001b[1m   Installed\u001b[22m\u001b[39m IrrationalConstants ───────── v0.2.2\n",
      "\u001b[32m\u001b[1m   Installed\u001b[22m\u001b[39m FreqTables ────────────────── v0.4.6\n",
      "\u001b[32m\u001b[1m   Installed\u001b[22m\u001b[39m ColorTypes ────────────────── v0.11.5\n",
      "\u001b[32m\u001b[1m   Installed\u001b[22m\u001b[39m PrettyTables ──────────────── v2.4.0\n",
      "\u001b[32m\u001b[1m   Installed\u001b[22m\u001b[39m Rmath ─────────────────────── v0.8.0\n",
      "\u001b[32m\u001b[1m   Installed\u001b[22m\u001b[39m Arrow ─────────────────────── v2.8.0\n",
      "\u001b[32m\u001b[1m   Installed\u001b[22m\u001b[39m Zstd_jll ──────────────────── v1.5.6+1\n",
      "\u001b[32m\u001b[1m   Installed\u001b[22m\u001b[39m NamedArrays ───────────────── v0.10.3\n",
      "\u001b[32m\u001b[1m   Installed\u001b[22m\u001b[39m StatsFuns ─────────────────── v1.3.2\n",
      "\u001b[32m\u001b[1m   Installed\u001b[22m\u001b[39m HypergeometricFunctions ───── v0.3.25\n",
      "\u001b[32m\u001b[1m   Installed\u001b[22m\u001b[39m TableTraits ───────────────── v1.0.1\n",
      "\u001b[32m\u001b[1m   Installed\u001b[22m\u001b[39m Pipe ──────────────────────── v1.3.0\n",
      "\u001b[32m\u001b[1m   Installed\u001b[22m\u001b[39m PtrArrays ─────────────────── v1.2.1\n",
      "\u001b[32m\u001b[1m   Installed\u001b[22m\u001b[39m Mocking ───────────────────── v0.8.1\n",
      "\u001b[32m\u001b[1m   Installed\u001b[22m\u001b[39m SentinelArrays ────────────── v1.4.7\n",
      "\u001b[32m\u001b[1m   Installed\u001b[22m\u001b[39m SpecialFunctions ──────────── v2.5.0\n",
      "\u001b[32m\u001b[1m   Installed\u001b[22m\u001b[39m Tables ────────────────────── v1.12.0\n",
      "\u001b[32m\u001b[1m   Installed\u001b[22m\u001b[39m PDMats ────────────────────── v0.11.31\n",
      "\u001b[32m\u001b[1m   Installed\u001b[22m\u001b[39m CategoricalArrays ─────────── v0.10.8\n",
      "\u001b[32m\u001b[1m   Installed\u001b[22m\u001b[39m DataAPI ───────────────────── v1.16.0\n",
      "\u001b[32m\u001b[1m   Installed\u001b[22m\u001b[39m ArrowTypes ────────────────── v2.3.0\n",
      "\u001b[32m\u001b[1m   Installed\u001b[22m\u001b[39m PyCall ────────────────────── v1.96.4\n",
      "\u001b[32m\u001b[1m   Installed\u001b[22m\u001b[39m Unitful ───────────────────── v1.21.1\n",
      "\u001b[32m\u001b[1m   Installed\u001b[22m\u001b[39m FixedPointNumbers ─────────── v0.8.5\n",
      "\u001b[32m\u001b[1m   Installed\u001b[22m\u001b[39m TimeZones ─────────────────── v1.19.0\n",
      "\u001b[32m\u001b[1m   Installed\u001b[22m\u001b[39m InlineStrings ─────────────── v1.4.2\n",
      "\u001b[32m\u001b[1m   Installed\u001b[22m\u001b[39m PooledArrays ──────────────── v1.4.3\n",
      "\u001b[32m\u001b[1m   Installed\u001b[22m\u001b[39m IteratorInterfaceExtensions ─ v1.0.0\n",
      "\u001b[32m\u001b[1m   Installed\u001b[22m\u001b[39m DataValueInterfaces ───────── v1.0.0\n",
      "\u001b[32m\u001b[1m   Installed\u001b[22m\u001b[39m OrderedCollections ────────── v1.7.0\n",
      "\u001b[32m\u001b[1m   Installed\u001b[22m\u001b[39m TZJData ───────────────────── v1.3.0+2024b\n",
      "\u001b[32m\u001b[1m   Installed\u001b[22m\u001b[39m ConcurrentUtilities ───────── v2.4.2\n",
      "\u001b[32m\u001b[1m   Installed\u001b[22m\u001b[39m EnumX ─────────────────────── v1.0.4\n",
      "\u001b[32m\u001b[1m   Installed\u001b[22m\u001b[39m PyPlot ────────────────────── v2.11.5\n",
      "\u001b[32m\u001b[1m   Installed\u001b[22m\u001b[39m WorkerUtilities ───────────── v1.6.1\n",
      "\u001b[32m\u001b[1m   Installed\u001b[22m\u001b[39m LaTeXStrings ──────────────── v1.4.0\n",
      "\u001b[32m\u001b[1m   Installed\u001b[22m\u001b[39m Combinatorics ─────────────── v1.0.2\n",
      "\u001b[32m\u001b[1m   Installed\u001b[22m\u001b[39m StringViews ───────────────── v1.3.4\n",
      "\u001b[32m\u001b[1m   Installed\u001b[22m\u001b[39m DelimitedFiles ────────────── v1.9.1\n",
      "\u001b[32m\u001b[1m   Installed\u001b[22m\u001b[39m TranscodingStreams ────────── v0.11.3\n",
      "\u001b[32m\u001b[1m   Installed\u001b[22m\u001b[39m InvertedIndices ───────────── v1.3.0\n",
      "\u001b[32m\u001b[1m   Installed\u001b[22m\u001b[39m Reexport ──────────────────── v1.2.2\n",
      "\u001b[32m\u001b[1m   Installed\u001b[22m\u001b[39m BitIntegers ───────────────── v0.3.2\n",
      "\u001b[32m\u001b[1m   Installed\u001b[22m\u001b[39m FilePathsBase ─────────────── v0.9.22\n",
      "\u001b[32m\u001b[1m   Installed\u001b[22m\u001b[39m Rmath_jll ─────────────────── v0.5.1+0\n",
      "\u001b[32m\u001b[1m   Installed\u001b[22m\u001b[39m FillArrays ────────────────── v1.13.0\n",
      "\u001b[32m\u001b[1m   Installed\u001b[22m\u001b[39m Lz4_jll ───────────────────── v1.10.0+1\n",
      "\u001b[32m\u001b[1m   Installed\u001b[22m\u001b[39m QuadGK ────────────────────── v2.11.1\n",
      "\u001b[32m\u001b[1m   Installed\u001b[22m\u001b[39m Statistics ────────────────── v1.11.1\n",
      "\u001b[32m\u001b[1m   Installed\u001b[22m\u001b[39m WeakRefStrings ────────────── v1.4.2\n",
      "\u001b[32m\u001b[1m   Installed\u001b[22m\u001b[39m StatsModels ───────────────── v0.7.4\n",
      "\u001b[32m\u001b[1m   Installed\u001b[22m\u001b[39m DataFrames ────────────────── v1.7.0\n",
      "\u001b[32m\u001b[1m   Installed\u001b[22m\u001b[39m CodecZstd ─────────────────── v0.8.6\n",
      "\u001b[32m\u001b[1m   Installed\u001b[22m\u001b[39m GLM ───────────────────────── v1.9.0\n",
      "\u001b[32m\u001b[1m   Installed\u001b[22m\u001b[39m LogExpFunctions ───────────── v0.3.29\n",
      "\u001b[32m\u001b[1m   Installed\u001b[22m\u001b[39m Requires ──────────────────── v1.3.0\n",
      "\u001b[32m\u001b[1m   Installed\u001b[22m\u001b[39m CSV ───────────────────────── v0.10.15\n",
      "\u001b[32m\u001b[1m   Installed\u001b[22m\u001b[39m ShiftedArrays ─────────────── v2.0.0\n",
      "\u001b[32m\u001b[1m   Installed\u001b[22m\u001b[39m DataStructures ────────────── v0.18.20\n",
      "\u001b[32m\u001b[1m   Installed\u001b[22m\u001b[39m ExprTools ─────────────────── v0.1.10\n",
      "\u001b[32m\u001b[1m   Installed\u001b[22m\u001b[39m Colors ────────────────────── v0.12.11\n",
      "\u001b[32m\u001b[1m   Installed\u001b[22m\u001b[39m AliasTables ───────────────── v1.1.3\n",
      "\u001b[32m\u001b[1m   Installed\u001b[22m\u001b[39m MacroTools ────────────────── v0.5.13\n",
      "\u001b[32m\u001b[1m   Installed\u001b[22m\u001b[39m OpenSpecFun_jll ───────────── v0.5.5+0\n",
      "\u001b[32m\u001b[1m   Installed\u001b[22m\u001b[39m StatsAPI ──────────────────── v1.7.0\n",
      "\u001b[32m\u001b[1m   Installed\u001b[22m\u001b[39m Compat ────────────────────── v4.16.0\n",
      "\u001b[32m\u001b[1m   Installed\u001b[22m\u001b[39m CodecLz4 ──────────────────── v0.4.5\n",
      "\u001b[32m\u001b[1m   Installed\u001b[22m\u001b[39m CodecZlib ─────────────────── v0.7.6\n",
      "\u001b[32m\u001b[1m   Installed\u001b[22m\u001b[39m Distributions ─────────────── v0.25.113\n",
      "\u001b[32m\u001b[1m   Installed\u001b[22m\u001b[39m Missings ──────────────────── v1.2.0\n",
      "\u001b[32m\u001b[1m   Installed\u001b[22m\u001b[39m DocStringExtensions ───────── v0.9.3\n",
      "\u001b[32m\u001b[1m   Installed\u001b[22m\u001b[39m StringManipulation ────────── v0.4.0\n",
      "\u001b[32m\u001b[1m   Installed\u001b[22m\u001b[39m StatsBase ─────────────────── v0.34.3\n",
      "\u001b[32m\u001b[1m   Installed\u001b[22m\u001b[39m SortingAlgorithms ─────────── v1.2.1\n",
      "\u001b[32m\u001b[1m    Building\u001b[22m\u001b[39m PyCall → `~/.julia/scratchspaces/44cfe95a-1eb2-52ea-b672-e2afdf69b78f/9816a3826b0ebf49ab4926e2b18842ad8b5c8f04/build.log`\n",
      "\u001b[92m\u001b[1mPrecompiling\u001b[22m\u001b[39m project...\n",
      "    507.7 ms\u001b[32m  ✓ \u001b[39mPipe\n",
      "    578.7 ms\u001b[32m  ✓ \u001b[39m\u001b[90mStringViews\u001b[39m\n",
      "    592.2 ms\u001b[32m  ✓ \u001b[39m\u001b[90mOrderedCollections\u001b[39m\n",
      "    374.2 ms\u001b[32m  ✓ \u001b[39m\u001b[90mEnumX\u001b[39m\n",
      "    367.0 ms\u001b[32m  ✓ \u001b[39m\u001b[90mLaTeXStrings\u001b[39m\n",
      "    445.3 ms\u001b[32m  ✓ \u001b[39m\u001b[90mDataValueInterfaces\u001b[39m\n",
      "   1036.9 ms\u001b[32m  ✓ \u001b[39m\u001b[90mCombinatorics\u001b[39m\n",
      "    989.7 ms\u001b[32m  ✓ \u001b[39m\u001b[90mFillArrays\u001b[39m\n",
      "    281.9 ms\u001b[32m  ✓ \u001b[39m\u001b[90mReexport\u001b[39m\n",
      "    305.9 ms\u001b[32m  ✓ \u001b[39m\u001b[90mInvertedIndices\u001b[39m\n",
      "    374.4 ms\u001b[32m  ✓ \u001b[39m\u001b[90mArrowTypes\u001b[39m\n",
      "    418.9 ms\u001b[32m  ✓ \u001b[39m\u001b[90mStatistics\u001b[39m\n",
      "    472.3 ms\u001b[32m  ✓ \u001b[39m\u001b[90mInlineStrings\u001b[39m\n",
      "    327.9 ms\u001b[32m  ✓ \u001b[39m\u001b[90mExprTools\u001b[39m\n",
      "    274.9 ms\u001b[32m  ✓ \u001b[39m\u001b[90mIteratorInterfaceExtensions\u001b[39m\n",
      "    325.3 ms\u001b[32m  ✓ \u001b[39m\u001b[90mDataAPI\u001b[39m\n",
      "    345.2 ms\u001b[32m  ✓ \u001b[39m\u001b[90mWorkerUtilities\u001b[39m\n",
      "    327.7 ms\u001b[32m  ✓ \u001b[39m\u001b[90mStatsAPI\u001b[39m\n",
      "    646.8 ms\u001b[32m  ✓ \u001b[39m\u001b[90mIrrationalConstants\u001b[39m\n",
      "    294.3 ms\u001b[32m  ✓ \u001b[39m\u001b[90mPtrArrays\u001b[39m\n",
      "    468.9 ms\u001b[32m  ✓ \u001b[39m\u001b[90mBitIntegers\u001b[39m\n",
      "    836.3 ms\u001b[32m  ✓ \u001b[39m\u001b[90mCrayons\u001b[39m\n",
      "    573.6 ms\u001b[32m  ✓ \u001b[39m\u001b[90mConcurrentUtilities\u001b[39m\n",
      "    368.2 ms\u001b[32m  ✓ \u001b[39m\u001b[90mTZJData\u001b[39m\n",
      "    517.7 ms\u001b[32m  ✓ \u001b[39m\u001b[90mTranscodingStreams\u001b[39m\n",
      "    350.3 ms\u001b[32m  ✓ \u001b[39m\u001b[90mShiftedArrays\u001b[39m\n",
      "    413.6 ms\u001b[32m  ✓ \u001b[39m\u001b[90mRequires\u001b[39m\n",
      "    414.9 ms\u001b[32m  ✓ \u001b[39m\u001b[90mDelimitedFiles\u001b[39m\n",
      "    435.3 ms\u001b[32m  ✓ \u001b[39m\u001b[90mScratch\u001b[39m\n",
      "    581.3 ms\u001b[32m  ✓ \u001b[39m\u001b[90mCompat\u001b[39m\n",
      "   1818.3 ms\u001b[32m  ✓ \u001b[39m\u001b[90mMacroTools\u001b[39m\n",
      "   1159.8 ms\u001b[32m  ✓ \u001b[39m\u001b[90mSentinelArrays\u001b[39m\n",
      "    479.5 ms\u001b[32m  ✓ \u001b[39m\u001b[90mDocStringExtensions\u001b[39m\n",
      "    852.8 ms\u001b[32m  ✓ \u001b[39m\u001b[90mPDMats\u001b[39m\n",
      "    413.6 ms\u001b[32m  ✓ \u001b[39m\u001b[90mRmath_jll\u001b[39m\n",
      "    457.5 ms\u001b[32m  ✓ \u001b[39m\u001b[90mZstd_jll\u001b[39m\n",
      "    483.1 ms\u001b[32m  ✓ \u001b[39m\u001b[90mLz4_jll\u001b[39m\n",
      "    554.8 ms\u001b[32m  ✓ \u001b[39m\u001b[90mOpenSpecFun_jll\u001b[39m\n",
      "   1327.1 ms\u001b[32m  ✓ \u001b[39m\u001b[90mStringManipulation\u001b[39m\n",
      "    407.4 ms\u001b[32m  ✓ \u001b[39m\u001b[90mStatistics → SparseArraysExt\u001b[39m\n",
      "    454.7 ms\u001b[32m  ✓ \u001b[39m\u001b[90mFillArrays → FillArraysStatisticsExt\u001b[39m\n",
      "    890.2 ms\u001b[32m  ✓ \u001b[39m\u001b[90mFillArrays → FillArraysSparseArraysExt\u001b[39m\n",
      "    569.1 ms\u001b[32m  ✓ \u001b[39m\u001b[90mInlineStrings → ParsersExt\u001b[39m\n",
      "    648.6 ms\u001b[32m  ✓ \u001b[39m\u001b[90mInlineStrings → ArrowTypesExt\u001b[39m\n",
      "    745.6 ms\u001b[32m  ✓ \u001b[39m\u001b[90mTableTraits\u001b[39m\n",
      "   1645.4 ms\u001b[32m  ✓ \u001b[39m\u001b[90mFixedPointNumbers\u001b[39m\n",
      "    750.2 ms\u001b[32m  ✓ \u001b[39m\u001b[90mMissings\u001b[39m\n",
      "    552.1 ms\u001b[32m  ✓ \u001b[39m\u001b[90mPooledArrays\u001b[39m\n",
      "    662.2 ms\u001b[32m  ✓ \u001b[39m\u001b[90mAliasTables\u001b[39m\n",
      "    596.5 ms\u001b[32m  ✓ \u001b[39m\u001b[90mCodecZlib\u001b[39m\n",
      "    485.4 ms\u001b[32m  ✓ \u001b[39m\u001b[90mCompat → CompatLinearAlgebraExt\u001b[39m\n",
      "    769.1 ms\u001b[32m  ✓ \u001b[39m\u001b[90mLogExpFunctions\u001b[39m\n",
      "    995.1 ms\u001b[32m  ✓ \u001b[39m\u001b[90mFillArrays → FillArraysPDMatsExt\u001b[39m\n",
      "   1219.2 ms\u001b[32m  ✓ \u001b[39m\u001b[90mRmath\u001b[39m\n",
      "   1137.6 ms\u001b[32m  ✓ \u001b[39m\u001b[90mCodecZstd\u001b[39m\n",
      "   1073.3 ms\u001b[32m  ✓ \u001b[39m\u001b[90mCodecLz4\u001b[39m\n",
      "    785.7 ms\u001b[32m  ✓ \u001b[39m\u001b[90mWeakRefStrings\u001b[39m\n",
      "   1260.3 ms\u001b[32m  ✓ \u001b[39m\u001b[90mTables\u001b[39m\n",
      "   1790.4 ms\u001b[32m  ✓ \u001b[39m\u001b[90mColorTypes\u001b[39m\n",
      "   1962.7 ms\u001b[32m  ✓ \u001b[39m\u001b[90mCategoricalArrays\u001b[39m\n",
      "   1554.7 ms\u001b[32m  ✓ \u001b[39m\u001b[90mDataStructures\u001b[39m\n",
      "    555.2 ms\u001b[32m  ✓ \u001b[39m\u001b[90mMocking\u001b[39m\n",
      "    853.8 ms\u001b[32m  ✓ \u001b[39m\u001b[90mFilePathsBase\u001b[39m\n",
      "   3008.0 ms\u001b[32m  ✓ \u001b[39m\u001b[90mSpecialFunctions\u001b[39m\n",
      "   7956.4 ms\u001b[32m  ✓ \u001b[39mPyCall\n",
      "    793.9 ms\u001b[32m  ✓ \u001b[39m\u001b[90mCategoricalArrays → CategoricalArraysJSONExt\u001b[39m\n",
      "   1006.2 ms\u001b[32m  ✓ \u001b[39m\u001b[90mCategoricalArrays → CategoricalArraysSentinelArraysExt\u001b[39m\n",
      "   4021.7 ms\u001b[32m  ✓ \u001b[39m\u001b[90mColors\u001b[39m\n",
      "    673.8 ms\u001b[32m  ✓ \u001b[39m\u001b[90mSortingAlgorithms\u001b[39m\n",
      "    784.6 ms\u001b[32m  ✓ \u001b[39m\u001b[90mQuadGK\u001b[39m\n",
      "  13886.7 ms\u001b[32m  ✓ \u001b[39mUnitful\n",
      "    434.5 ms\u001b[32m  ✓ \u001b[39m\u001b[90mFilePathsBase → FilePathsBaseMmapExt\u001b[39m\n",
      "   1195.9 ms\u001b[32m  ✓ \u001b[39m\u001b[90mFilePathsBase → FilePathsBaseTestExt\u001b[39m\n",
      "   2405.6 ms\u001b[32m  ✓ \u001b[39m\u001b[90mNamedArrays\u001b[39m\n",
      "   1048.3 ms\u001b[32m  ✓ \u001b[39m\u001b[90mHypergeometricFunctions\u001b[39m\n",
      "   2009.8 ms\u001b[32m  ✓ \u001b[39m\u001b[90mStatsBase\u001b[39m\n",
      "   2970.0 ms\u001b[32m  ✓ \u001b[39mPyPlot\n",
      "   4691.9 ms\u001b[32m  ✓ \u001b[39m\u001b[90mTimeZones\u001b[39m\n",
      "   1055.4 ms\u001b[32m  ✓ \u001b[39mFreqTables\n",
      "   1729.2 ms\u001b[32m  ✓ \u001b[39m\u001b[90mStatsFuns\u001b[39m\n",
      "   2359.6 ms\u001b[32m  ✓ \u001b[39m\u001b[90mStatsModels\u001b[39m\n",
      "  14015.2 ms\u001b[32m  ✓ \u001b[39m\u001b[90mPrettyTables\u001b[39m\n",
      "   5396.5 ms\u001b[32m  ✓ \u001b[39mArrow\n",
      "   4972.0 ms\u001b[32m  ✓ \u001b[39m\u001b[90mDistributions\u001b[39m\n",
      "   1073.2 ms\u001b[32m  ✓ \u001b[39m\u001b[90mDistributions → DistributionsTestExt\u001b[39m\n",
      "   1927.9 ms\u001b[32m  ✓ \u001b[39mGLM\n",
      "  11051.5 ms\u001b[32m  ✓ \u001b[39mCSV\n",
      "  23666.3 ms\u001b[32m  ✓ \u001b[39mDataFrames\n",
      "  88 dependencies successfully precompiled in 50 seconds. 43 already precompiled.\n"
     ]
    }
   ],
   "source": [
    "] instantiate"
   ]
  },
  {
   "cell_type": "markdown",
   "metadata": {},
   "source": [
    "<div class=\"alert alert-block alert-info\">\n",
    "    <p><b>PyPlot.jl configuration:</b></p>\n",
    "    <p>In some environments automatic installation of PyPlot.jl might fail. If you encounter this ussue please refer to <a href=\"https://github.com/JuliaPy/PyPlot.jl#installation\">the PyPlot.jl installation instructions</a>. </p>\n",
    "</div>\n",
    "\n",
    "In particular typically executing the following commands:\n",
    "\n",
    "```\n",
    "using Pkg\n",
    "ENV[\"PYTHON\"]=\"\"\n",
    "Pkg.build(\"PyCall\")\n",
    "```\n",
    "\n",
    "should resolve the PyPlot.jl installation issues. However, on OS X sometimes more configuration steps are required. You can find the detailed instructions [here](https://github.com/JuliaPy/PyPlot.jl#os-x)."
   ]
  },
  {
   "cell_type": "markdown",
   "metadata": {},
   "source": [
    "As you see we will use the following packages:\n",
    "\n",
    "Package | Description\n",
    ":-|:-\n",
    "DataFrames.jl | a core package that is a subject of this tutorial; it is used for data manipulation; we use version 0.21.0 of this package\n",
    "CSV.jl | a package for reading/writing of CSV files\n",
    "FreqTables.jl | a very useful package for creating frequency tables\n",
    "GLM.jl | a package for fitting Generalized Linear Models (as no data science tutorial would be complete without building some predictive model)\n",
    "PyPlot.jl | a package for plotting; there are many options in the Julia ecosystem to choose from; in this tutorial we use PyPlot.jl as it is based on Matplotlib so if you have experience with the Python data science technology stack it should be familiar\n",
    "Pipe.jl | a package that makes chaining of operations super powerful (which is something you probably know from `%>%` in R)\n",
    "Arrow.jl | a package for working with data in Apache Arrow format\n",
    "Unitful.jl | a package for working with physical units (like kg, cm, ...)"
   ]
  }
 ],
 "metadata": {
  "@webio": {
   "lastCommId": null,
   "lastKernelId": null
  },
  "kernelspec": {
   "display_name": "Julia 1.11.2",
   "language": "julia",
   "name": "julia-1.11"
  },
  "language_info": {
   "file_extension": ".jl",
   "mimetype": "application/julia",
   "name": "julia",
   "version": "1.11.2"
  }
 },
 "nbformat": 4,
 "nbformat_minor": 4
}
